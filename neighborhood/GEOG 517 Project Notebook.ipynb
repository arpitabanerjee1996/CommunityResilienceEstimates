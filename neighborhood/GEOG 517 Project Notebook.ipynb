{
 "cells": [
  {
   "cell_type": "code",
   "execution_count": 2,
   "metadata": {},
   "outputs": [],
   "source": [
    "import pandas as pd\n",
    "import geopandas as gpd\n",
    "from Adaptive_Choropleth_Mapper import Adaptive_Choropleth_Mapper_viz"
   ]
  },
  {
   "cell_type": "code",
   "execution_count": 3,
   "metadata": {},
   "outputs": [],
   "source": [
    "input_attributes = pd.read_csv(\"Neighborhood_Resilience_Estimate_Large.csv\", dtype={'geoid':str})\n",
    "input_attributes = input_attributes.rename(columns={'GEOID': 'tractID'})\n",
    "input_attributes['year'] = 2020\n",
    "input_attributes = input_attributes.drop(columns=['Unnamed: 0'])"
   ]
  },
  {
   "cell_type": "code",
   "execution_count": 4,
   "metadata": {},
   "outputs": [],
   "source": [
    "shapefile = gpd.read_file(\"shp/Cook_County_Tract-Copy1.shp\")\n",
    "shapefile = shapefile.rename(columns={'GEOID10': 'tractID'})"
   ]
  },
  {
   "cell_type": "code",
   "execution_count": 25,
   "metadata": {},
   "outputs": [],
   "source": [
    "input_attributes['Aggregate'] = (input_attributes[\"RiskFactor1_percent\"] + \n",
    "                                 input_attributes[\"RiskFactor2_percent\"] + \n",
    "                                 input_attributes[\"RiskFactor3_percent\"] + \n",
    "                                 0.5*input_attributes[\"RiskFactor4a_percent\"] + \n",
    "                                 0.5*input_attributes[\"RiskFactor4b_percent\"] + \n",
    "                                 input_attributes[\"RiskFactor5_percent\"] + \n",
    "                                 input_attributes[\"RiskFactor6_percent\"] + \n",
    "                                 input_attributes[\"RiskFactor7_percent\"] + \n",
    "                                 input_attributes[\"RiskFactor8_percent\"]) / 8"
   ]
  },
  {
   "cell_type": "code",
   "execution_count": 24,
   "metadata": {},
   "outputs": [
    {
     "name": "stdout",
     "output_type": "stream",
     "text": [
      "To see your visualization, click the URL below (or locate the files):\n",
      "https://cybergisx.cigi.illinois.edu/user/arpitabanerjee1996/view/GEOG_517_PROJECT/ACM_PCP/index.html\n",
      "Advanced options are available in \n",
      "https://cybergisx.cigi.illinois.edu/user/arpitabanerjee1996/edit/GEOG_517_PROJECT/ACM_PCP/data/CONFIG_PCP.js\n"
     ]
    }
   ],
   "source": [
    "param = {\n",
    "        'title': \"Adaptive Choropleth Mapper: Parallel Coordinate Plot\",\n",
    "        'filename_suffix': \"PCP\",\n",
    "        'inputCSV': input_attributes,   \n",
    "        'shapefile': shapefile,\n",
    "        'period': 2020,\n",
    "        'NumOfMaps': 10,  \n",
    "        'label': 'short_name',\n",
    "        'variables': [         #enter variable names of the column you selected above.\n",
    "            \"Aggregate\",\n",
    "            \"RiskFactor1_percent\",\n",
    "            \"RiskFactor2_percent\",\n",
    "            \"RiskFactor3_percent\",\n",
    "            \"RiskFactor4a_percent\",\n",
    "            \"RiskFactor4b_percent\",\n",
    "            \"RiskFactor5_percent\",\n",
    "            \"RiskFactor6_percent\",\n",
    "            \"RiskFactor7_percent\",\n",
    "            \"RiskFactor8_percent\"\n",
    "        ],\n",
    "        'chart': \"Parallel Coordinates Plot\",\n",
    "}\n",
    "Adaptive_Choropleth_Mapper_viz(param)"
   ]
  },
  {
   "cell_type": "code",
   "execution_count": null,
   "metadata": {},
   "outputs": [],
   "source": []
  }
 ],
 "metadata": {
  "kernelspec": {
   "display_name": "Python 3",
   "language": "python",
   "name": "python3"
  },
  "language_info": {
   "codemirror_mode": {
    "name": "ipython",
    "version": 3
   },
   "file_extension": ".py",
   "mimetype": "text/x-python",
   "name": "python",
   "nbconvert_exporter": "python",
   "pygments_lexer": "ipython3",
   "version": "3.7.6"
  }
 },
 "nbformat": 4,
 "nbformat_minor": 4
}
